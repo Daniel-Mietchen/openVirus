{
 "cells": [
  {
   "cell_type": "code",
   "execution_count": 1,
   "metadata": {},
   "outputs": [],
   "source": [
    "# importing all the libraries\n",
    "import xml.etree.ElementTree as ET\n",
    "import string\n",
    "import os  \n",
    "import re"
   ]
  },
  {
   "cell_type": "code",
   "execution_count": 2,
   "metadata": {},
   "outputs": [],
   "source": [
    "# function to remove html tags from the text and everything inside the tags.\n",
    "def cleanhtml(raw_html):\n",
    "  cleanr = re.compile('<.*?>')\n",
    "  cleantext = re.sub(\"[^a-zA-Z]\", \" \", str(raw_html))\n",
    "\n",
    "  return cleantext"
   ]
  },
  {
   "cell_type": "code",
   "execution_count": 3,
   "metadata": {
    "scrolled": false
   },
   "outputs": [],
   "source": [
    "# Function to clean text and output it to a text file in comma seperated format\n",
    "fulltext = \"fulltext\"\n",
    "xml =\".xml\"\n",
    "\n",
    "def getcsv(outfile, parent_dir, word):\n",
    "\n",
    "    for root, dirs, files in os.walk(parent_dir): # To search through the directory in aloop\n",
    "        for name in files:\n",
    "            if name =='fulltext.xml': # finding fulltext.xml file within the directory\n",
    "                new_path = (os.path.join(root, name))\n",
    "                file_name = os.path.dirname(new_path) # getting the directory path as a variable\n",
    "                tree = ET.parse(new_path)\n",
    "                root = tree.getroot()\n",
    "                abstracts = root.findall(\"./front/article-meta/abstract/\") # searching the fulltext file to get abstract\n",
    "\n",
    "                for abstract in abstracts:\n",
    "                    abstractText = (abstract.text)\n",
    "                    abstractNoTags= cleanhtml(abstractText) # applying the cleantext function \n",
    "                    abstractNoTagsLower = abstractNoTags.lower() # converting the entire text to lower case\n",
    "                    input_str = re.sub(r'\\d+', '', abstractNoTagsLower)  #Regular Expression, or regex \n",
    "                    #input_str = input_str.translate(string.maketrans(\"\",\"\"), string.punctuation)\n",
    "                    new_1 = input_str.strip() #Remove spaces at the beginning and at the end of the string\n",
    "                    csvLine = str(file_name) +  \",\" + new1 +  \",\" + word  + \"\\n\"\n",
    "                    outp = csvLine  + \"\\n\" # put output in a string\n",
    "\n",
    "                    outfile.write(outp) # write to a text file\n",
    "\n",
    "    outfile.close() #close the text file"
   ]
  },
  {
   "cell_type": "code",
   "execution_count": 4,
   "metadata": {},
   "outputs": [],
   "source": [
    "# using the function getcsv for true positives\n",
    "outfile1 = open('true.txt','w')\n",
    "parent_dir_true  = \"D:\\\\try1\\\\true\"\n",
    "word1 = \"true\"\n",
    "\n",
    "getcsv(outfile1, parent_dir_true, word1)\n",
    "\n",
    "# using the function getcsv for false positives\n",
    "outfile2 = open('false.txt','w')\n",
    "parent_dir_false  = \"D:\\\\try1\\\\false\"\n",
    "word2 = \"false\"\n",
    "\n",
    "getcsv(outfile2, parent_dir_false, word2)"
   ]
  },
  {
   "cell_type": "code",
   "execution_count": 5,
   "metadata": {},
   "outputs": [
    {
     "name": "stdout",
     "output_type": "stream",
     "text": [
      "D:\\try1\n"
     ]
    }
   ],
   "source": [
    "# function removing words like abstract etc.\n",
    "def remove_abs(out_put, in_put):\n",
    "    with open(in_put, \"r\") as a_file: #open the file\n",
    "      for line in a_file: #loop through each word in the file\n",
    "        if len(line.split()) >2: # if the word length for the line is greater than 2\n",
    "            out_put.write(line) # write to a new file\n",
    "\n",
    "    out_put.close()"
   ]
  },
  {
   "cell_type": "code",
   "execution_count": 6,
   "metadata": {},
   "outputs": [],
   "source": [
    "# using the function remove_abs\n",
    "in_put1 = 'true.txt'\n",
    "in_put2 = 'false.txt'\n",
    "\n",
    "out_put1 = open('true_new.txt','w')\n",
    "out_put2 = open('false_new.txt','w')\n",
    "\n",
    "remove_abs(out_put1,in_put1)\n",
    "remove_abs(out_put2, in_put2)"
   ]
  },
  {
   "cell_type": "code",
   "execution_count": 7,
   "metadata": {},
   "outputs": [],
   "source": [
    "# merging two files (false positives and true positives)\n",
    "  \n",
    "data = data2 = \"\" \n",
    "  \n",
    "# Reading data from file1 \n",
    "with open('true_new.txt') as fp: \n",
    "    data = fp.read() \n",
    "  \n",
    "# Reading data from file2 \n",
    "with open('false_new.txt') as fp: \n",
    "    data2 = fp.read() \n",
    "  \n",
    "# Merging 2 files \n",
    "# To add the data of file2 \n",
    "# from next line \n",
    "data += \"\\n\"\n",
    "data += data2 \n",
    "  \n",
    "with open ('OpenVirus.txt', 'w') as fp: \n",
    "    fp.write(data) "
   ]
  },
  {
   "cell_type": "code",
   "execution_count": 8,
   "metadata": {},
   "outputs": [],
   "source": [
    "# converting the text file into csv file\n",
    "import pandas as pd\n",
    "\n",
    "read_file = pd.read_csv (r'OpenVirus.txt') #read the file as a pandas dataframe\n",
    "read_file.to_csv (r'OpenVirus.csv', index=None) #write it to csv file"
   ]
  },
  {
   "cell_type": "code",
   "execution_count": 12,
   "metadata": {},
   "outputs": [],
   "source": [
    "#adding headers to the file \n",
    "\n",
    "import csv\n",
    "with open('OpenVirus.csv',newline='') as f:\n",
    "    r = csv.reader(f)\n",
    "    data = [line for line in r]\n",
    "with open('OpenVirus.csv','w',newline='') as f:\n",
    "    w = csv.writer(f)\n",
    "    w.writerow(['ArticleId','Text', 'Category'])\n",
    "    w.writerows(data)"
   ]
  },
  {
   "cell_type": "code",
   "execution_count": 13,
   "metadata": {},
   "outputs": [],
   "source": [
    "df_train = pd.read_csv(\"OpenVirus.csv\")"
   ]
  },
  {
   "cell_type": "code",
   "execution_count": 14,
   "metadata": {},
   "outputs": [
    {
     "data": {
      "text/html": [
       "<div>\n",
       "<style scoped>\n",
       "    .dataframe tbody tr th:only-of-type {\n",
       "        vertical-align: middle;\n",
       "    }\n",
       "\n",
       "    .dataframe tbody tr th {\n",
       "        vertical-align: top;\n",
       "    }\n",
       "\n",
       "    .dataframe thead th {\n",
       "        text-align: right;\n",
       "    }\n",
       "</style>\n",
       "<table border=\"1\" class=\"dataframe\">\n",
       "  <thead>\n",
       "    <tr style=\"text-align: right;\">\n",
       "      <th></th>\n",
       "      <th>ArticleId</th>\n",
       "      <th>Text</th>\n",
       "      <th>Category</th>\n",
       "    </tr>\n",
       "  </thead>\n",
       "  <tbody>\n",
       "    <tr>\n",
       "      <th>0</th>\n",
       "      <td>D:\\try1\\true\\PMC6375641</td>\n",
       "      <td>west nile virus  wnv  has been circulating in ...</td>\n",
       "      <td>True</td>\n",
       "    </tr>\n",
       "    <tr>\n",
       "      <th>1</th>\n",
       "      <td>D:\\try1\\true\\PMC6375641</td>\n",
       "      <td>west nile virus  wnv  is the cause of the larg...</td>\n",
       "      <td>True</td>\n",
       "    </tr>\n",
       "    <tr>\n",
       "      <th>2</th>\n",
       "      <td>D:\\try1\\true\\PMC6410223</td>\n",
       "      <td>mosquito borne diseases constitute a large por...</td>\n",
       "      <td>True</td>\n",
       "    </tr>\n",
       "    <tr>\n",
       "      <th>3</th>\n",
       "      <td>D:\\try1\\true\\PMC6445942</td>\n",
       "      <td>since       acute flaccid myelitis  afm   a lo...</td>\n",
       "      <td>True</td>\n",
       "    </tr>\n",
       "    <tr>\n",
       "      <th>4</th>\n",
       "      <td>D:\\try1\\true\\PMC6445942</td>\n",
       "      <td>since       acute flaccid myelitis  afm   a lo...</td>\n",
       "      <td>True</td>\n",
       "    </tr>\n",
       "  </tbody>\n",
       "</table>\n",
       "</div>"
      ],
      "text/plain": [
       "                 ArticleId                                               Text  \\\n",
       "0  D:\\try1\\true\\PMC6375641  west nile virus  wnv  has been circulating in ...   \n",
       "1  D:\\try1\\true\\PMC6375641  west nile virus  wnv  is the cause of the larg...   \n",
       "2  D:\\try1\\true\\PMC6410223  mosquito borne diseases constitute a large por...   \n",
       "3  D:\\try1\\true\\PMC6445942  since       acute flaccid myelitis  afm   a lo...   \n",
       "4  D:\\try1\\true\\PMC6445942  since       acute flaccid myelitis  afm   a lo...   \n",
       "\n",
       "   Category  \n",
       "0      True  \n",
       "1      True  \n",
       "2      True  \n",
       "3      True  \n",
       "4      True  "
      ]
     },
     "execution_count": 14,
     "metadata": {},
     "output_type": "execute_result"
    }
   ],
   "source": [
    "df_train.head()"
   ]
  },
  {
   "cell_type": "code",
   "execution_count": 15,
   "metadata": {},
   "outputs": [],
   "source": [
    "#factorizing the categories into 0 and 1\n",
    "df_train['category_id'] = df_train['Category'].factorize()[0]"
   ]
  },
  {
   "cell_type": "code",
   "execution_count": 16,
   "metadata": {},
   "outputs": [
    {
     "data": {
      "text/plain": [
       "<matplotlib.axes._subplots.AxesSubplot at 0x1f3e1d40fc8>"
      ]
     },
     "execution_count": 16,
     "metadata": {},
     "output_type": "execute_result"
    }
   ],
   "source": [
    "df_train.groupby('Category').category_id.count().plot.bar(ylim=0)"
   ]
  },
  {
   "cell_type": "code",
   "execution_count": 17,
   "metadata": {},
   "outputs": [],
   "source": [
    "from sklearn.feature_extraction.text import TfidfVectorizer\n",
    "tfidf = TfidfVectorizer(sublinear_tf=True, min_df=5, norm='l2', encoding='latin-1', ngram_range=(1, 2), stop_words='english')\n",
    "features = tfidf.fit_transform(df_train.Text).toarray()\n",
    "labels = df_train.category_id"
   ]
  },
  {
   "cell_type": "code",
   "execution_count": 18,
   "metadata": {},
   "outputs": [],
   "source": [
    "category_to_id = {'true':0, 'false':1}\n",
    "id_to_category = {0: 'true', 1: 'fasle'}"
   ]
  },
  {
   "cell_type": "code",
   "execution_count": null,
   "metadata": {},
   "outputs": [],
   "source": []
  }
 ],
 "metadata": {
  "kernelspec": {
   "display_name": "Python 3",
   "language": "python",
   "name": "python3"
  },
  "language_info": {
   "codemirror_mode": {
    "name": "ipython",
    "version": 3
   },
   "file_extension": ".py",
   "mimetype": "text/x-python",
   "name": "python",
   "nbconvert_exporter": "python",
   "pygments_lexer": "ipython3",
   "version": "3.8.3"
  }
 },
 "nbformat": 4,
 "nbformat_minor": 4
}
